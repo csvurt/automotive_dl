{
 "cells": [
  {
   "cell_type": "code",
   "execution_count": 33,
   "metadata": {},
   "outputs": [],
   "source": [
    "#modified from the Berkeley BDD tools on Github:  https://github.com/ucbdrive/bdd-data\n",
    "\n",
    "import argparse\n",
    "import os\n",
    "from os import path as osp\n",
    "import sys\n",
    "from random import shuffle\n",
    "\n",
    "\n",
    "def gen_list(data_root, data_dir, list_dir, phase, list_type, max_train_images=None, suffix='.jpg'):\n",
    "    phase_dir = osp.join(data_root, data_dir, phase)\n",
    "    if not osp.exists(phase_dir):\n",
    "        raise ValueError('Can not find folder {}'.format(phase_dir))\n",
    "    images = [n[:-4]\n",
    "                     for n in os.listdir(phase_dir)\n",
    "                     if n[-len(suffix):] == suffix]\n",
    "    shuffle(images)\n",
    "    print('Found', len(images), 'items in', data_dir, phase)\n",
    "    \n",
    "    if max_train_images is not None:\n",
    "        if phase == 'train':\n",
    "            truncate_to = max_train_images\n",
    "        else:\n",
    "            truncate_to = int(max_train_images / 10)\n",
    "        print('Truncating to ', truncate_to)\n",
    "        images = images[0:truncate_to]\n",
    "    \n",
    "    out_path = osp.join(list_dir, '{}_{}.txt'.format(phase, list_type))\n",
    "    if not osp.exists(list_dir):\n",
    "        os.makedirs(list_dir)\n",
    "    print('Writing', out_path)\n",
    "    with open(out_path, 'w') as fp:\n",
    "        fp.write('\\n'.join(images))\n",
    "\n",
    "\n",
    "def gen_images(data_root, list_dir, max_train_images=None, image_type='100k'):\n",
    "    for phase in ['train', 'val', 'test2']:\n",
    "        gen_list(data_root, osp.join('images', image_type),\n",
    "                 list_dir, phase, 'images', max_train_images, suffix='.jpg')\n",
    "\n",
    "\n",
    "def gen_drivable(data_root, max_train_images):\n",
    "    image_type = '100k'\n",
    "    label_dir = 'drivable_maps\\\\labels'\n",
    "    list_dir = 'data\\\\bdd100k\\\\lists\\\\100k\\\\drivable'\n",
    "\n",
    "    gen_images(data_root, list_dir, max_train_images, image_type)\n",
    "\n",
    "    for p in ['train', 'val', 'test2']:\n",
    "        gen_list(data_root, label_dir, list_dir, p, 'labels', max_train_images=max_train_images, suffix='drivable_id.png')\n",
    "\n",
    "\n",
    "def gen_seg(data_root):\n",
    "    image_type = '10k'\n",
    "    label_dir = 'seg_maps\\\\labels'\n",
    "    list_dir = 'data\\\\bdd100k\\\\lists\\\\10k\\\\seg'\n",
    "\n",
    "    gen_images(data_root, list_dir, image_type)\n",
    "\n",
    "    for p in ['train', 'val']:\n",
    "        gen_list(data_root, label_dir, list_dir, p, 'labels', max_train_images=None, suffix='train_id.png')\n",
    "        \n"
   ]
  },
  {
   "cell_type": "code",
   "execution_count": 34,
   "metadata": {},
   "outputs": [
    {
     "name": "stdout",
     "output_type": "stream",
     "text": [
      "Found 70000 items in images\\100k train\n",
      "Truncating to  2000\n",
      "Writing data\\bdd100k\\lists\\100k\\drivable\\train_images.txt\n",
      "Found 9300 items in images\\100k val\n",
      "Truncating to  200\n",
      "Writing data\\bdd100k\\lists\\100k\\drivable\\val_images.txt\n",
      "Found 700 items in images\\100k test2\n",
      "Truncating to  200\n",
      "Writing data\\bdd100k\\lists\\100k\\drivable\\test2_images.txt\n",
      "Found 70000 items in drivable_maps\\labels train\n",
      "Truncating to  2000\n",
      "Writing data\\bdd100k\\lists\\100k\\drivable\\train_labels.txt\n",
      "Found 10000 items in drivable_maps\\labels val\n",
      "Truncating to  200\n",
      "Writing data\\bdd100k\\lists\\100k\\drivable\\val_labels.txt\n",
      "Found 0 items in drivable_maps\\labels test2\n",
      "Truncating to  200\n",
      "Writing data\\bdd100k\\lists\\100k\\drivable\\test2_labels.txt\n"
     ]
    }
   ],
   "source": [
    "data_path = 'data\\\\bdd100k\\\\';\n",
    "gen_drivable(data_path, 2000);\n"
   ]
  },
  {
   "cell_type": "code",
   "execution_count": null,
   "metadata": {},
   "outputs": [],
   "source": []
  }
 ],
 "metadata": {
  "kernelspec": {
   "display_name": "Python 3",
   "language": "python",
   "name": "python3"
  },
  "language_info": {
   "codemirror_mode": {
    "name": "ipython",
    "version": 3
   },
   "file_extension": ".py",
   "mimetype": "text/x-python",
   "name": "python",
   "nbconvert_exporter": "python",
   "pygments_lexer": "ipython3",
   "version": "3.7.1"
  }
 },
 "nbformat": 4,
 "nbformat_minor": 2
}
