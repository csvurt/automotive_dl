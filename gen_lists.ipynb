{
 "cells": [
  {
   "cell_type": "code",
   "execution_count": 1,
   "metadata": {},
   "outputs": [],
   "source": [
    "#modified from the Berkeley BDD tools on Github:  https://github.com/ucbdrive/bdd-data\n",
    "\n",
    "import argparse\n",
    "import os\n",
    "from os import path as osp\n",
    "import sys\n",
    "\n",
    "\n",
    "def gen_list(data_root, data_dir, list_dir, phase, list_type, suffix='.jpg'):\n",
    "    phase_dir = osp.join(data_root, data_dir, phase)\n",
    "    if not osp.exists(phase_dir):\n",
    "        raise ValueError('Can not find folder {}'.format(phase_dir))\n",
    "    images = sorted([n[:-4]\n",
    "                     for n in os.listdir(phase_dir)\n",
    "                     if n[-len(suffix):] == suffix])\n",
    "    print('Found', len(images), 'items in', data_dir, phase)\n",
    "    out_path = osp.join(list_dir, '{}_{}.txt'.format(phase, list_type))\n",
    "    if not osp.exists(list_dir):\n",
    "        os.makedirs(list_dir)\n",
    "    print('Writing', out_path)\n",
    "    with open(out_path, 'w') as fp:\n",
    "        fp.write('\\n'.join(images))\n",
    "\n",
    "\n",
    "def gen_images(data_root, list_dir, image_type='100k'):\n",
    "    for phase in ['train', 'val', 'test']:\n",
    "        gen_list(data_root, osp.join('images', image_type),\n",
    "                 list_dir, phase, 'images', '.jpg')\n",
    "\n",
    "\n",
    "def gen_drivable(data_root):\n",
    "    image_type = '100k'\n",
    "    label_dir = 'drivable_maps\\\\labels'\n",
    "    list_dir = 'data\\\\bdd100k\\\\lists\\\\100k\\\\drivable'\n",
    "\n",
    "    gen_images(data_root, list_dir, image_type)\n",
    "\n",
    "    for p in ['train', 'val']:\n",
    "        gen_list(data_root, label_dir, list_dir, p, 'labels',\n",
    "                 'drivable_id.png')\n",
    "\n",
    "\n",
    "def gen_seg(data_root):\n",
    "    image_type = '10k'\n",
    "    label_dir = 'seg_maps\\\\labels'\n",
    "    list_dir = 'data\\\\bdd100k\\\\lists\\\\10k\\\\seg'\n",
    "\n",
    "    gen_images(data_root, list_dir, image_type)\n",
    "\n",
    "    for p in ['train', 'val']:\n",
    "        gen_list(data_root, label_dir, list_dir, p, 'labels',\n",
    "                 'train_id.png')\n",
    "        \n"
   ]
  },
  {
   "cell_type": "code",
   "execution_count": 2,
   "metadata": {},
   "outputs": [
    {
     "name": "stdout",
     "output_type": "stream",
     "text": [
      "Found 70000 items in images\\100k train\n",
      "Writing ..\\data\\bdd100k\\lists\\100k\\drivable\\train_images.txt\n",
      "Found 10000 items in images\\100k val\n",
      "Writing ..\\data\\bdd100k\\lists\\100k\\drivable\\val_images.txt\n",
      "Found 20000 items in images\\100k test\n",
      "Writing ..\\data\\bdd100k\\lists\\100k\\drivable\\test_images.txt\n",
      "Found 70000 items in drivable_maps\\labels train\n",
      "Writing ..\\data\\bdd100k\\lists\\100k\\drivable\\train_labels.txt\n",
      "Found 10000 items in drivable_maps\\labels val\n",
      "Writing ..\\data\\bdd100k\\lists\\100k\\drivable\\val_labels.txt\n"
     ]
    }
   ],
   "source": [
    "data_path = 'data\\\\bdd100k\\\\';\n",
    "gen_drivable(data_path);\n"
   ]
  },
  {
   "cell_type": "code",
   "execution_count": null,
   "metadata": {},
   "outputs": [],
   "source": []
  }
 ],
 "metadata": {
  "kernelspec": {
   "display_name": "Python 3",
   "language": "python",
   "name": "python3"
  },
  "language_info": {
   "codemirror_mode": {
    "name": "ipython",
    "version": 3
   },
   "file_extension": ".py",
   "mimetype": "text/x-python",
   "name": "python",
   "nbconvert_exporter": "python",
   "pygments_lexer": "ipython3",
   "version": "3.7.1"
  }
 },
 "nbformat": 4,
 "nbformat_minor": 2
}
